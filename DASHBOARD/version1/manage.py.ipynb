{
 "cells": [
  {
   "cell_type": "code",
   "execution_count": 1,
   "id": "f6e82e6a",
   "metadata": {},
   "outputs": [
    {
     "name": "stdout",
     "output_type": "stream",
     "text": [
      "Requirement already satisfied: dash in c:\\users\\dell\\anaconda3\\lib\\site-packages (2.6.1)\n",
      "Requirement already satisfied: Flask>=1.0.4 in c:\\users\\dell\\anaconda3\\lib\\site-packages (from dash) (1.1.2)\n",
      "Requirement already satisfied: dash-core-components==2.0.0 in c:\\users\\dell\\anaconda3\\lib\\site-packages (from dash) (2.0.0)\n",
      "Requirement already satisfied: flask-compress in c:\\users\\dell\\anaconda3\\lib\\site-packages (from dash) (1.12)\n",
      "Requirement already satisfied: dash-html-components==2.0.0 in c:\\users\\dell\\anaconda3\\lib\\site-packages (from dash) (2.0.0)\n",
      "Requirement already satisfied: dash-table==5.0.0 in c:\\users\\dell\\anaconda3\\lib\\site-packages (from dash) (5.0.0)\n",
      "Requirement already satisfied: plotly>=5.0.0 in c:\\users\\dell\\anaconda3\\lib\\site-packages (from dash) (5.6.0)\n",
      "Requirement already satisfied: itsdangerous>=0.24 in c:\\users\\dell\\anaconda3\\lib\\site-packages (from Flask>=1.0.4->dash) (2.0.1)\n",
      "Requirement already satisfied: Werkzeug>=0.15 in c:\\users\\dell\\anaconda3\\lib\\site-packages (from Flask>=1.0.4->dash) (2.0.3)\n",
      "Requirement already satisfied: Jinja2>=2.10.1 in c:\\users\\dell\\anaconda3\\lib\\site-packages (from Flask>=1.0.4->dash) (2.11.3)\n",
      "Requirement already satisfied: click>=5.1 in c:\\users\\dell\\anaconda3\\lib\\site-packages (from Flask>=1.0.4->dash) (8.0.4)\n",
      "Requirement already satisfied: colorama in c:\\users\\dell\\anaconda3\\lib\\site-packages (from click>=5.1->Flask>=1.0.4->dash) (0.4.4)\n",
      "Requirement already satisfied: importlib-metadata in c:\\users\\dell\\anaconda3\\lib\\site-packages (from click>=5.1->Flask>=1.0.4->dash) (4.11.3)\n",
      "Requirement already satisfied: MarkupSafe>=0.23 in c:\\users\\dell\\anaconda3\\lib\\site-packages (from Jinja2>=2.10.1->Flask>=1.0.4->dash) (2.0.1)\n",
      "Requirement already satisfied: tenacity>=6.2.0 in c:\\users\\dell\\anaconda3\\lib\\site-packages (from plotly>=5.0.0->dash) (8.0.1)\n",
      "Requirement already satisfied: six in c:\\users\\dell\\anaconda3\\lib\\site-packages (from plotly>=5.0.0->dash) (1.16.0)\n",
      "Requirement already satisfied: brotli in c:\\users\\dell\\anaconda3\\lib\\site-packages (from flask-compress->dash) (1.0.9)\n",
      "Requirement already satisfied: typing-extensions>=3.6.4 in c:\\users\\dell\\anaconda3\\lib\\site-packages (from importlib-metadata->click>=5.1->Flask>=1.0.4->dash) (4.1.1)\n",
      "Requirement already satisfied: zipp>=0.5 in c:\\users\\dell\\anaconda3\\lib\\site-packages (from importlib-metadata->click>=5.1->Flask>=1.0.4->dash) (3.7.0)\n"
     ]
    }
   ],
   "source": [
    "!pip install dash\n"
   ]
  },
  {
   "cell_type": "code",
   "execution_count": 2,
   "id": "491fc59c",
   "metadata": {},
   "outputs": [
    {
     "name": "stdout",
     "output_type": "stream",
     "text": [
      "Requirement already satisfied: dash-renderer in c:\\users\\dell\\anaconda3\\lib\\site-packages (1.9.1)\n"
     ]
    }
   ],
   "source": [
    "!pip install dash-renderer"
   ]
  },
  {
   "cell_type": "code",
   "execution_count": 3,
   "id": "08075d30",
   "metadata": {},
   "outputs": [
    {
     "name": "stdout",
     "output_type": "stream",
     "text": [
      "Requirement already satisfied: dash_html_components in c:\\users\\dell\\anaconda3\\lib\\site-packages (2.0.0)\n"
     ]
    }
   ],
   "source": [
    "!pip install dash_html_components"
   ]
  },
  {
   "cell_type": "code",
   "execution_count": 4,
   "id": "145e5c52",
   "metadata": {},
   "outputs": [
    {
     "name": "stdout",
     "output_type": "stream",
     "text": [
      "Requirement already satisfied: dash_core_components in c:\\users\\dell\\anaconda3\\lib\\site-packages (2.0.0)\n"
     ]
    }
   ],
   "source": [
    "!pip install dash_core_components"
   ]
  },
  {
   "cell_type": "code",
   "execution_count": 5,
   "id": "7da7c83f",
   "metadata": {},
   "outputs": [],
   "source": [
    "import dash"
   ]
  },
  {
   "cell_type": "code",
   "execution_count": 6,
   "id": "e9f37f06",
   "metadata": {},
   "outputs": [
    {
     "name": "stderr",
     "output_type": "stream",
     "text": [
      "C:\\Users\\DELL\\anaconda3\\lib\\site-packages\\ipykernel_launcher.py:1: UserWarning: \n",
      "The dash_core_components package is deprecated. Please replace\n",
      "`import dash_core_components as dcc` with `from dash import dcc`\n",
      "  \"\"\"Entry point for launching an IPython kernel.\n"
     ]
    }
   ],
   "source": [
    "import dash_core_components as dcc"
   ]
  },
  {
   "cell_type": "code",
   "execution_count": 7,
   "id": "a775dca7",
   "metadata": {},
   "outputs": [
    {
     "name": "stderr",
     "output_type": "stream",
     "text": [
      "C:\\Users\\DELL\\anaconda3\\lib\\site-packages\\ipykernel_launcher.py:1: UserWarning: \n",
      "The dash_html_components package is deprecated. Please replace\n",
      "`import dash_html_components as html` with `from dash import html`\n",
      "  \"\"\"Entry point for launching an IPython kernel.\n"
     ]
    }
   ],
   "source": [
    "import dash_html_components as html"
   ]
  },
  {
   "cell_type": "code",
   "execution_count": 8,
   "id": "30b0a174",
   "metadata": {},
   "outputs": [],
   "source": [
    "import numpy as np"
   ]
  },
  {
   "cell_type": "code",
   "execution_count": 9,
   "id": "a61616b6",
   "metadata": {},
   "outputs": [],
   "source": [
    "import plotly.graph_objs as go\n",
    "import plotly.graph_objects as gt"
   ]
  },
  {
   "cell_type": "code",
   "execution_count": 10,
   "id": "5b03585d",
   "metadata": {},
   "outputs": [],
   "source": [
    "import pandas as pd\n"
   ]
  },
  {
   "cell_type": "markdown",
   "id": "5c54655e",
   "metadata": {},
   "source": [
    "np.random.seed(50)\n",
    "x_rand = np.random.randint(1,61,60)\n",
    "y_rand = np.random.randint(1,61,60)"
   ]
  },
  {
   "cell_type": "code",
   "execution_count": 11,
   "id": "2f31a304",
   "metadata": {},
   "outputs": [],
   "source": [
    "app = dash.Dash()"
   ]
  },
  {
   "cell_type": "code",
   "execution_count": 12,
   "id": "e82b37f4",
   "metadata": {
    "scrolled": true
   },
   "outputs": [],
   "source": [
    "wash = pd.read_excel('19.xlsx')"
   ]
  },
  {
   "cell_type": "code",
   "execution_count": 13,
   "id": "3b43e226",
   "metadata": {},
   "outputs": [
    {
     "data": {
      "text/html": [
       "<div>\n",
       "<style scoped>\n",
       "    .dataframe tbody tr th:only-of-type {\n",
       "        vertical-align: middle;\n",
       "    }\n",
       "\n",
       "    .dataframe tbody tr th {\n",
       "        vertical-align: top;\n",
       "    }\n",
       "\n",
       "    .dataframe thead th {\n",
       "        text-align: right;\n",
       "    }\n",
       "</style>\n",
       "<table border=\"1\" class=\"dataframe\">\n",
       "  <thead>\n",
       "    <tr style=\"text-align: right;\">\n",
       "      <th></th>\n",
       "      <th>Temperature</th>\n",
       "      <th>Humidity</th>\n",
       "      <th>PM 2.5</th>\n",
       "      <th>Ammonia</th>\n",
       "      <th>Date</th>\n",
       "      <th>Time</th>\n",
       "      <th>Hour</th>\n",
       "    </tr>\n",
       "  </thead>\n",
       "  <tbody>\n",
       "    <tr>\n",
       "      <th>0</th>\n",
       "      <td>29.7</td>\n",
       "      <td>54.0</td>\n",
       "      <td>6</td>\n",
       "      <td>76</td>\n",
       "      <td>2022-08-18</td>\n",
       "      <td>00:00:12.080838</td>\n",
       "      <td>NaN</td>\n",
       "    </tr>\n",
       "    <tr>\n",
       "      <th>1</th>\n",
       "      <td>25.5</td>\n",
       "      <td>25.5</td>\n",
       "      <td>6</td>\n",
       "      <td>75</td>\n",
       "      <td>2022-08-18</td>\n",
       "      <td>00:01:14.103748</td>\n",
       "      <td>NaN</td>\n",
       "    </tr>\n",
       "    <tr>\n",
       "      <th>2</th>\n",
       "      <td>29.7</td>\n",
       "      <td>54.0</td>\n",
       "      <td>6</td>\n",
       "      <td>76</td>\n",
       "      <td>2022-08-18</td>\n",
       "      <td>00:02:16.133389</td>\n",
       "      <td>NaN</td>\n",
       "    </tr>\n",
       "    <tr>\n",
       "      <th>3</th>\n",
       "      <td>25.5</td>\n",
       "      <td>25.5</td>\n",
       "      <td>6</td>\n",
       "      <td>76</td>\n",
       "      <td>2022-08-18</td>\n",
       "      <td>00:03:18.149512</td>\n",
       "      <td>NaN</td>\n",
       "    </tr>\n",
       "    <tr>\n",
       "      <th>4</th>\n",
       "      <td>29.8</td>\n",
       "      <td>54.5</td>\n",
       "      <td>6</td>\n",
       "      <td>75</td>\n",
       "      <td>2022-08-18</td>\n",
       "      <td>00:04:20.171564</td>\n",
       "      <td>NaN</td>\n",
       "    </tr>\n",
       "  </tbody>\n",
       "</table>\n",
       "</div>"
      ],
      "text/plain": [
       "   Temperature  Humidity  PM 2.5  Ammonia       Date             Time  Hour\n",
       "0         29.7      54.0       6       76 2022-08-18  00:00:12.080838   NaN\n",
       "1         25.5      25.5       6       75 2022-08-18  00:01:14.103748   NaN\n",
       "2         29.7      54.0       6       76 2022-08-18  00:02:16.133389   NaN\n",
       "3         25.5      25.5       6       76 2022-08-18  00:03:18.149512   NaN\n",
       "4         29.8      54.5       6       75 2022-08-18  00:04:20.171564   NaN"
      ]
     },
     "execution_count": 13,
     "metadata": {},
     "output_type": "execute_result"
    }
   ],
   "source": [
    "wash.head()"
   ]
  },
  {
   "cell_type": "code",
   "execution_count": 14,
   "id": "f9b2ef94",
   "metadata": {},
   "outputs": [],
   "source": [
    "app.layout = html.Div([\n",
    "    \n",
    "    dcc.Graph(\n",
    "        id='scatter_chart',\n",
    "        figure = {\n",
    "            'data' : [\n",
    "                gt.Scatter(\n",
    "                    x = wash.Temperature,\n",
    "                    y = wash.Time,\n",
    "                    mode = 'markers'\n",
    "                )\n",
    "            ],\n",
    "            'layout' : go.Layout(\n",
    "                title = 'scatterplot of random 60 points',\n",
    "                xaxis = {'title' : 'Temperature'},\n",
    "                yaxis = {'title' : 'Time'},\n",
    "                hovermode = 'closest'\n",
    "            )\n",
    "        }\n",
    "    )\n",
    "])"
   ]
  },
  {
   "cell_type": "code",
   "execution_count": 15,
   "id": "01799bb5",
   "metadata": {},
   "outputs": [],
   "source": [
    "colors = {\n",
    "    'text' : 'center',\n",
    "    'plot_color' : '#D3D3D3',\n",
    "    'paper_color' : '#00FFFF'\n",
    "}"
   ]
  },
  {
   "cell_type": "code",
   "execution_count": 16,
   "id": "ee7ece0d",
   "metadata": {},
   "outputs": [],
   "source": [
    "app.layout = html.Div([\n",
    "    html.H1(children='hello dash!!!',\n",
    "    style = {\n",
    "        'textAlign' : 'center',\n",
    "        'color' : colors['text']\n",
    "        }\n",
    "        ),\n",
    "    html.Div(children = 'Dash - a data product development framework from policy',\n",
    "            style = {\n",
    "                'textAlign' : 'center',\n",
    "                'color' : colors['text']\n",
    "             }\n",
    "            ),\n",
    "    \n",
    "    dcc.Graph(\n",
    "    id = 'samplechart',\n",
    "    figure={\n",
    "        'data' : [\n",
    "            {'x': [4,9,10], 'y': [12,19,20], 'type':'line','name':'first_chart'},\n",
    "            {'x': [5,8,9], 'y': [10,15,30], 'type':'line', 'name': 'second_line_chart'}\n",
    "        ],\n",
    "        'layout' : {\n",
    "            'plot_bgcolor' : colors['plot_color'],\n",
    "            'paper_bgcolor' : colors['paper_color'],\n",
    "            'font' : {\n",
    "                'color' : colors['text']\n",
    "            },\n",
    "            \n",
    "                'title' : 'simple line chart'\n",
    "            }\n",
    "        }\n",
    "    )\n",
    "])"
   ]
  },
  {
   "cell_type": "markdown",
   "id": "8181fcda",
   "metadata": {},
   "source": [
    "app.layout = html.Div([\n",
    "    html.Label('Choose a city'),\n",
    "    html.Br(),\n",
    "    dcc.Dropdown(\n",
    "    id = 'first-dropdown',\n",
    "    options = [\n",
    "        {'label': 'Sar Francisco', 'value':'SF'},\n",
    "        {'label': 'New York City', 'value' : 'NYC'},\n",
    "        {'label': 'Raleigh durham', 'value' : 'RDU'}\n",
    "    ],\n",
    "    placeholder='Select a city'\n",
    "    #value = 'NYC',\n",
    "    #multi = True,\n",
    "    #disavled = True\n",
    "    )\n",
    "])"
   ]
  },
  {
   "cell_type": "code",
   "execution_count": null,
   "id": "e328b4ca",
   "metadata": {},
   "outputs": [
    {
     "name": "stdout",
     "output_type": "stream",
     "text": [
      "Dash is running on http://127.0.0.1:4050/\n",
      "\n",
      " * Serving Flask app \"__main__\" (lazy loading)\n",
      " * Environment: production\n",
      "\u001b[31m   WARNING: This is a development server. Do not use it in a production deployment.\u001b[0m\n",
      "\u001b[2m   Use a production WSGI server instead.\u001b[0m\n",
      " * Debug mode: off\n"
     ]
    },
    {
     "name": "stderr",
     "output_type": "stream",
     "text": [
      " * Running on http://127.0.0.1:4050/ (Press CTRL+C to quit)\n",
      "127.0.0.1 - - [03/Sep/2022 20:50:57] \"GET / HTTP/1.1\" 200 -\n",
      "127.0.0.1 - - [03/Sep/2022 20:50:57] \"GET /_dash-component-suites/dash/deps/polyfill@7.v2_6_1m1661426731.12.1.min.js HTTP/1.1\" 200 -\n",
      "127.0.0.1 - - [03/Sep/2022 20:50:57] \"GET /_dash-component-suites/dash/deps/react@16.v2_6_1m1661426731.14.0.min.js HTTP/1.1\" 200 -\n",
      "127.0.0.1 - - [03/Sep/2022 20:50:57] \"GET /_dash-component-suites/dash/deps/react-dom@16.v2_6_1m1661426731.14.0.min.js HTTP/1.1\" 200 -\n",
      "127.0.0.1 - - [03/Sep/2022 20:50:57] \"GET /_dash-component-suites/dash/deps/prop-types@15.v2_6_1m1661426731.8.1.min.js HTTP/1.1\" 200 -\n",
      "127.0.0.1 - - [03/Sep/2022 20:50:57] \"GET /_dash-component-suites/dash/dash-renderer/build/dash_renderer.v2_6_1m1661426731.min.js HTTP/1.1\" 200 -\n",
      "127.0.0.1 - - [03/Sep/2022 20:50:57] \"GET /_dash-component-suites/dash/dcc/dash_core_components.v2_6_1m1661426731.js HTTP/1.1\" 200 -\n",
      "127.0.0.1 - - [03/Sep/2022 20:50:57] \"GET /_dash-component-suites/dash/dcc/dash_core_components-shared.v2_6_1m1661426731.js HTTP/1.1\" 200 -\n",
      "127.0.0.1 - - [03/Sep/2022 20:50:57] \"GET /_dash-component-suites/dash/html/dash_html_components.v2_0_5m1661426731.min.js HTTP/1.1\" 200 -\n",
      "127.0.0.1 - - [03/Sep/2022 20:50:57] \"GET /_dash-component-suites/dash/dash_table/bundle.v5_1_5m1661426731.js HTTP/1.1\" 200 -\n",
      "127.0.0.1 - - [03/Sep/2022 20:50:57] \"GET /_dash-layout HTTP/1.1\" 200 -\n",
      "127.0.0.1 - - [03/Sep/2022 20:50:57] \"GET /_dash-dependencies HTTP/1.1\" 200 -\n",
      "127.0.0.1 - - [03/Sep/2022 20:50:57] \"GET /_favicon.ico?v=2.6.1 HTTP/1.1\" 200 -\n",
      "127.0.0.1 - - [03/Sep/2022 20:50:57] \"GET /_dash-component-suites/dash/dcc/async-graph.js HTTP/1.1\" 200 -\n",
      "127.0.0.1 - - [03/Sep/2022 20:50:57] \"GET /_dash-component-suites/dash/dcc/async-plotlyjs.js HTTP/1.1\" 200 -\n"
     ]
    }
   ],
   "source": [
    "if __name__ == '__main__':\n",
    "    app.run_server(port = 4050)"
   ]
  },
  {
   "cell_type": "code",
   "execution_count": null,
   "id": "6129de1e",
   "metadata": {},
   "outputs": [],
   "source": [
    "help(html.Div)"
   ]
  },
  {
   "cell_type": "code",
   "execution_count": null,
   "id": "3531b2a8",
   "metadata": {},
   "outputs": [],
   "source": []
  },
  {
   "cell_type": "code",
   "execution_count": null,
   "id": "78dd2b81",
   "metadata": {},
   "outputs": [],
   "source": []
  }
 ],
 "metadata": {
  "kernelspec": {
   "display_name": "Python 3 (ipykernel)",
   "language": "python",
   "name": "python3"
  },
  "language_info": {
   "codemirror_mode": {
    "name": "ipython",
    "version": 3
   },
   "file_extension": ".py",
   "mimetype": "text/x-python",
   "name": "python",
   "nbconvert_exporter": "python",
   "pygments_lexer": "ipython3",
   "version": "3.7.13"
  },
  "vscode": {
   "interpreter": {
    "hash": "b0bf2a7f76e5531519c05a165aed8e12d364120a8b3759a5058947249435dbfe"
   }
  },
  "widgets": {
   "application/vnd.jupyter.widget-state+json": {
    "state": {},
    "version_major": 2,
    "version_minor": 0
   }
  }
 },
 "nbformat": 4,
 "nbformat_minor": 5
}
